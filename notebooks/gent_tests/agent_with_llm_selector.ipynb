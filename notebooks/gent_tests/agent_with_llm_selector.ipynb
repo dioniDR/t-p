{
 "cells": [
  {
   "cell_type": "code",
   "execution_count": null,
   "id": "75e7d3ac",
   "metadata": {},
   "outputs": [],
   "source": [
    "from pathlib import Path\n",
    "import sys\n",
    "\n",
    "# Empezar desde la carpeta actual donde se ejecuta el notebook\n",
    "current = Path().resolve()\n",
    "\n",
    "# Buscar hacia arriba hasta encontrar config/settings.yaml\n",
    "for parent in current.parents:\n",
    "    if (parent / \"config\" / \"settings.yaml\").exists():\n",
    "        project_root = parent\n",
    "        break\n",
    "else:\n",
    "    raise FileNotFoundError(\"No se encontró config/settings.yaml en la ruta actual ni en sus carpetas superiores.\")\n",
    "\n",
    "# Mostrar y añadir al sys.path\n",
    "print(\"📍 project_root detectado:\", project_root)\n",
    "\n",
    "if str(project_root) not in sys.path:\n",
    "    sys.path.insert(0, str(project_root))\n",
    "    print(\"✅ project_root añadido a sys.path\")\n"
   ]
  },
  {
   "cell_type": "code",
   "execution_count": null,
   "id": "cb90a132",
   "metadata": {},
   "outputs": [],
   "source": [
    "import os\n",
    "import yaml\n",
    "\n",
    "# Ruta al archivo de configuración\n",
    "config_path = project_root / \"config\" / \"settings.yaml\"\n",
    "print(\"📄 Archivo de configuración encontrado en:\", config_path)\n",
    "\n",
    "# Leer contenido del archivo\n",
    "with open(config_path, \"r\") as f:\n",
    "    raw_config = f.read()\n",
    "\n",
    "# Expansión de variables de entorno si existen (como ${OPENAI_API_KEY})\n",
    "expanded_config = os.path.expandvars(raw_config)\n",
    "\n",
    "# Parsear YAML a diccionario\n",
    "config_data = yaml.safe_load(expanded_config)\n",
    "\n",
    "# Mostrar el contenido\n",
    "print(\"\\n📜 Contenido expandido del YAML:\")\n",
    "print(config_data)\n"
   ]
  },
  {
   "cell_type": "code",
   "execution_count": null,
   "id": "79dc28d2",
   "metadata": {},
   "outputs": [],
   "source": [
    "from providers.provider_manager import ProviderManager\n",
    "\n",
    "# Inicializar el manejador de proveedores\n",
    "manager = ProviderManager(str(config_path))\n",
    "\n",
    "# Verificar el proveedor actual cargado desde settings.yaml\n",
    "print(\"🔌 Proveedor activo:\", manager.get_current_provider_name())\n",
    "\n",
    "# Mostrar todos los proveedores disponibles\n",
    "print(\"📦 Proveedores disponibles:\", manager.list_available_providers())\n"
   ]
  },
  {
   "cell_type": "code",
   "execution_count": null,
   "id": "f7efdc3f",
   "metadata": {},
   "outputs": [],
   "source": [
    "# Obtener el proveedor actual desde el manager\n",
    "provider = manager.get_provider()\n",
    "\n",
    "# Enviar un prompt de prueba\n",
    "prompt = \"Haz un resumen del archivo que acabo de leer\"\n",
    "\n",
    "# Obtener respuesta\n",
    "respuesta = provider.generate_text(prompt)\n",
    "\n",
    "# Mostrar resultado\n",
    "print(\"🧠 Prompt enviado:\", prompt)\n",
    "print(\"\\n💬 Respuesta del modelo:\")\n",
    "print(respuesta)\n"
   ]
  },
  {
   "cell_type": "code",
   "execution_count": null,
   "id": "295411ea",
   "metadata": {},
   "outputs": [],
   "source": [
    "from agent_modules.command_agent import CommandAgent\n",
    "from agent_modules.command_agent.task_generator import TaskGenerator\n",
    "\n",
    "# Subclase temporal para TaskGenerator que usa el proveedor dinámico\n",
    "class DynamicTaskGenerator(TaskGenerator):\n",
    "    def __init__(self, provider):\n",
    "        self.provider = provider\n",
    "\n",
    "    def generate(self, input_text):\n",
    "        return self.provider.generate_text(input_text)\n",
    "\n",
    "# Crear el generador con el proveedor dinámico actual\n",
    "dynamic_generator = DynamicTaskGenerator(manager.get_provider())\n",
    "\n",
    "# Crear el agente y reemplazar su generador\n",
    "agent = CommandAgent()\n",
    "agent.generator = dynamic_generator\n",
    "\n",
    "# Probar el agente con una entrada real\n",
    "entrada = \"Convierte el contenido del informe en una lista de tareas\"\n",
    "salida = agent.act(entrada)\n",
    "\n",
    "# Mostrar resultado\n",
    "print(\"🧠 Entrada al agente:\", entrada)\n",
    "print(\"✅ Respuesta del agente:\", salida)\n"
   ]
  },
  {
   "cell_type": "code",
   "execution_count": null,
   "id": "624922e5",
   "metadata": {},
   "outputs": [],
   "source": []
  }
 ],
 "metadata": {
  "kernelspec": {
   "display_name": "venv",
   "language": "python",
   "name": "python3"
  },
  "language_info": {
   "codemirror_mode": {
    "name": "ipython",
    "version": 3
   },
   "file_extension": ".py",
   "mimetype": "text/x-python",
   "name": "python",
   "nbconvert_exporter": "python",
   "pygments_lexer": "ipython3",
   "version": "3.12.7"
  }
 },
 "nbformat": 4,
 "nbformat_minor": 5
}
