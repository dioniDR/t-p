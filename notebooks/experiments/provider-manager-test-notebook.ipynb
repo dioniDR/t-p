{
 "cells": [
  {
   "cell_type": "code",
   "execution_count": 1,
   "metadata": {},
   "outputs": [
    {
     "name": "stdout",
     "output_type": "stream",
     "text": [
      "✅ Importaciones realizadas correctamente\n"
     ]
    }
   ],
   "source": [
    "import os\n",
    "import sys\n",
    "\n",
    "# Obtener la ruta del notebook actual\n",
    "notebook_path = os.getcwd()\n",
    "\n",
    "# Añadir el directorio raíz del proyecto al path de Python\n",
    "project_root = os.path.abspath(os.path.join(notebook_path, '..', '..'))\n",
    "sys.path.insert(0, project_root)\n",
    "\n",
    "# Cargar variables de entorno\n",
    "from dotenv import load_dotenv\n",
    "load_dotenv()\n",
    "\n",
    "# Importar ProviderManager\n",
    "from providers.provider_manager import ProviderManager\n",
    "\n",
    "print(\"✅ Importaciones realizadas correctamente\")"
   ]
  },
  {
   "cell_type": "code",
   "execution_count": 2,
   "metadata": {},
   "outputs": [
    {
     "name": "stdout",
     "output_type": "stream",
     "text": [
      "Ruta de configuración: /home/dioni/Escritorio/agentes/t-p/config/settings.yaml\n",
      "✔️ ProviderManager importado correctamente\n",
      "✅ ProviderManager inicializado correctamente\n"
     ]
    }
   ],
   "source": [
    "# Inicializar ProviderManager\n",
    "config_path = os.path.join(project_root, 'config', 'settings.yaml')\n",
    "print(f\"Ruta de configuración: {config_path}\")\n",
    "\n",
    "try:\n",
    "    manager = ProviderManager(config_path)\n",
    "    print(\"✅ ProviderManager inicializado correctamente\")\n",
    "except Exception as e:\n",
    "    print(f\"❌ Error al inicializar ProviderManager: {e}\")"
   ]
  },
  {
   "cell_type": "code",
   "execution_count": 3,
   "metadata": {},
   "outputs": [
    {
     "name": "stdout",
     "output_type": "stream",
     "text": [
      "🌐 Proveedores disponibles:\n",
      "- openai\n",
      "- claude\n"
     ]
    }
   ],
   "source": [
    "# Listar proveedores disponibles\n",
    "print(\"🌐 Proveedores disponibles:\")\n",
    "proveedores = manager.list_available_providers()\n",
    "for proveedor in proveedores:\n",
    "    print(f\"- {proveedor}\")"
   ]
  },
  {
   "cell_type": "code",
   "execution_count": 4,
   "metadata": {},
   "outputs": [
    {
     "name": "stdout",
     "output_type": "stream",
     "text": [
      "🔍 Proveedor actual por defecto:\n",
      "Nombre: OpenAIProvider\n"
     ]
    }
   ],
   "source": [
    "# Proveedor actual por defecto\n",
    "print(\"🔍 Proveedor actual por defecto:\")\n",
    "print(f\"Nombre: {manager.get_current_provider_name()}\")"
   ]
  },
  {
   "cell_type": "code",
   "execution_count": 5,
   "metadata": {},
   "outputs": [
    {
     "name": "stdout",
     "output_type": "stream",
     "text": [
      "🔄 Prueba de cambio de proveedor:\n",
      "\n",
      "Cambiando a proveedor: openai\n",
      "🔄 Proveedor cambiado a: openai\n",
      "📝 Respuesta de openai:\n",
      "¡Hola! Soy un modelo de lenguaje desarrollado por OpenAI, diseñado para ayudarte con tus necesidades de comunicación y proporcionarte respuestas precisas y relevantes a tus preguntas. Estoy aquí para brindarte asistencia en una amplia variedad de temas y estoy constantemente aprendiendo y mejorando para ofrecerte la mejor experiencia posible. ¡No dudes en preguntarme cualquier cosa que necesites!\n",
      "==================================================\n",
      "\n",
      "Cambiando a proveedor: claude\n",
      "🔄 Proveedor cambiado a: claude\n",
      "📝 Respuesta de claude:\n",
      "Hola, soy Claude, un modelo de lenguaje desarrollado por Anthropic. Soy un asistente virtual con amplios conocimientos y habilidades, diseñado para ayudar a los humanos con una gran variedad de tareas. Me enorgullezco de mi capacidad para comunicarme de manera clara y efectiva, adaptándome a las necesidades de cada usuario. Puedo asistir en áreas como investigación, análisis, redacción, resolución de problemas y mucho más. Estoy aquí para servirte y espero poder establecer una relación de confianza y colaboración contigo. ¿En qué puedo ayudarte hoy?\n",
      "==================================================\n",
      "\n"
     ]
    }
   ],
   "source": [
    "# Prueba de cambio de proveedor\n",
    "print(\"🔄 Prueba de cambio de proveedor:\\n\")\n",
    "\n",
    "# Cambiar a cada proveedor disponible\n",
    "for proveedor in proveedores:\n",
    "    print(f\"Cambiando a proveedor: {proveedor}\")\n",
    "    try:\n",
    "        # Cambiar proveedor\n",
    "        manager.set_provider(proveedor)\n",
    "        \n",
    "        # Generar texto de prueba\n",
    "        prompt = f\"Preséntate como un modelo de lenguaje de {proveedor}\"\n",
    "        respuesta = manager.get_provider().generate_text(prompt)\n",
    "        \n",
    "        print(f\"📝 Respuesta de {proveedor}:\\n{respuesta}\\n{'='*50}\\n\")\n",
    "    except Exception as e:\n",
    "        print(f\"❌ Error con {proveedor}: {e}\\n\")"
   ]
  },
  {
   "cell_type": "code",
   "execution_count": null,
   "metadata": {},
   "outputs": [],
   "source": []
  }
 ],
 "metadata": {
  "kernelspec": {
   "display_name": "venv",
   "language": "python",
   "name": "python3"
  },
  "language_info": {
   "codemirror_mode": {
    "name": "ipython",
    "version": 3
   },
   "file_extension": ".py",
   "mimetype": "text/x-python",
   "name": "python",
   "nbconvert_exporter": "python",
   "pygments_lexer": "ipython3",
   "version": "3.12.7"
  }
 },
 "nbformat": 4,
 "nbformat_minor": 4
}
