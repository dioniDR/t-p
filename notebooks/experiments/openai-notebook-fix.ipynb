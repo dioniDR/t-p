{
 "cells": [
  {
   "cell_type": "code",
   "execution_count": null,
   "metadata": {},
   "outputs": [],
   "source": [
    "import os\n",
    "import sys\n",
    "\n",
    "# Obtener la ruta del notebook actual\n",
    "notebook_path = os.getcwd()\n",
    "\n",
    "# Añadir el directorio raíz del proyecto al path de Python\n",
    "project_root = os.path.abspath(os.path.join(notebook_path, '..', '..'))\n",
    "sys.path.insert(0, project_root)\n",
    "\n",
    "# Imprimir path para verificar\n",
    "print(\"Proyecto raíz:\", project_root)\n",
    "print(\"Directorio actual:\", notebook_path)\n",
    "print(\"Contenido del directorio raíz:\", os.listdir(project_root))\n",
    "\n",
    "# Cargar variables de entorno\n",
    "from dotenv import load_dotenv\n",
    "load_dotenv()\n",
    "\n",
    "# Intentar importaciones\n",
    "try:\n",
    "    from providers.llm.openai_provider import OpenAIProvider\n",
    "    print(\"✅ Importaciones realizadas correctamente\")\n",
    "except ImportError as e:\n",
    "    print(f\"❌ Error de importación: {e}\")\n",
    "    print(\"Path de Python:\", sys.path)"
   ]
  },
  {
   "cell_type": "code",
   "execution_count": null,
   "metadata": {},
   "outputs": [],
   "source": [
    "# Verificar la clave API\n",
    "api_key = os.getenv(\"OPENAI_API_KEY\")\n",
    "print(\"Clave API de OpenAI:\")\n",
    "print(f\"✓ {api_key[:5]}...{api_key[-4:]}\" if api_key else \"❌ No se encontró la clave API\")"
   ]
  },
  {
   "cell_type": "code",
   "execution_count": null,
   "metadata": {},
   "outputs": [],
   "source": [
    "# Crear instancia del proveedor\n",
    "openai_provider = OpenAIProvider()\n",
    "\n",
    "# Definir una lista de prompts para probar\n",
    "prompts = [\n",
    "    \"Preséntate brevemente\",\n",
    "    \"Explica qué es un modelo de lenguaje de manera sencilla\",\n",
    "    \"Escribe un poema corto sobre la tecnología\"\n",
    "]"
   ]
  },
  {
   "cell_type": "code",
   "execution_count": null,
   "metadata": {},
   "outputs": [],
   "source": [
    "# Probar generación de texto con diferentes prompts\n",
    "print(\"🔍 Probando generación de texto:\\n\")\n",
    "\n",
    "for i, prompt in enumerate(prompts, 1):\n",
    "    print(f\"Prompt {i}: {prompt}\")\n",
    "    try:\n",
    "        respuesta = openai_provider.generate_text(prompt)\n",
    "        print(f\"\\n📝 Respuesta {i}:\\n{respuesta}\\n{'='*50}\\n\")\n",
    "    except Exception as e:\n",
    "        print(f\"❌ Error en el prompt {i}: {e}\\n\")"
   ]
  },
  {
   "cell_type": "code",
   "execution_count": null,
   "metadata": {},
   "outputs": [],
   "source": []
  }
 ],
 "metadata": {
  "kernelspec": {
   "display_name": "venv",
   "language": "python",
   "name": "python3"
  },
  "language_info": {
   "codemirror_mode": {
    "name": "ipython",
    "version": 3
   },
   "file_extension": ".py",
   "mimetype": "text/x-python",
   "name": "python",
   "nbconvert_exporter": "python",
   "pygments_lexer": "ipython3",
   "version": "3.12.7"
  }
 },
 "nbformat": 4,
 "nbformat_minor": 4
}
